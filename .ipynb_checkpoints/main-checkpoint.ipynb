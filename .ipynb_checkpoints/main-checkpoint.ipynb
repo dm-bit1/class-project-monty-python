{
 "cells": [
  {
   "cell_type": "markdown",
   "id": "b0fd90c9",
   "metadata": {},
   "source": [
    "Most of the data cleaning occurs in the cell below."
   ]
  },
  {
   "cell_type": "code",
   "execution_count": 104,
   "id": "ecf50e6d",
   "metadata": {},
   "outputs": [
    {
     "name": "stdout",
     "output_type": "stream",
     "text": [
      "C:\\Users\\david\\anaconda3_2\\python.exe\n",
      "    latitude  longitude  elevation  utc_offset_seconds         timezone timezone_abbreviation\n",
      "0  41.792618  -87.65219      187.0              -21600  America/Chicago                   CST\n",
      "         time  temperature_2m_mean (°F)\n",
      "0  2020-04-16                      36.1\n",
      "1  2020-04-17                      34.7\n",
      "2  2020-04-18                      44.5\n",
      "3  2020-04-19                      46.2\n",
      "4  2020-04-20                      48.3\n",
      "84776\n",
      "Index(['ride_id', 'rideable_type', 'started_at', 'ended_at',\n",
      "       'start_station_name', 'start_station_id', 'end_station_name',\n",
      "       'end_station_id', 'start_lat', 'start_lng', 'end_lat', 'end_lng',\n",
      "       'member_casual'],\n",
      "      dtype='object')\n",
      "13\n",
      "<class 'pandas.core.frame.DataFrame'>\n",
      "0    2020-04-16\n",
      "1    2020-04-12\n",
      "2    2020-04-13\n",
      "3    2020-04-07\n",
      "4    2020-04-22\n",
      "Name: started_at, dtype: object\n",
      "0    2020-04-16\n",
      "1    2020-04-12\n",
      "2    2020-04-13\n",
      "3    2020-04-07\n",
      "4    2020-04-22\n",
      "Name: ended_at, dtype: object\n",
      "0    0\n",
      "1    1\n",
      "2    2\n",
      "3    3\n",
      "4    4\n",
      "Name: ride_id, dtype: int64\n",
      "84677\n",
      "45\n",
      "Index(['time', 'temperature_2m_mean (°F)'], dtype='object')\n",
      "datetime64[ns]\n",
      "float64\n"
     ]
    }
   ],
   "source": [
    "# Author David Miszczyk, CS 418 Fall 2023\n",
    "import pandas as pd\n",
    "import sys\n",
    "print(sys.executable)\n",
    "\n",
    "my_data = pd.read_csv(\"DivvyBikes_for_418-2.csv\",sep=',', low_memory=False)\n",
    "\n",
    "weatherData = pd.read_csv(\"weather_data.csv\", skiprows=2)\n",
    "\n",
    "metadata = pd.read_csv(\"weather_data.csv\", nrows=1) # Contains location of the weather data only.\n",
    "\n",
    "print(metadata)\n",
    "\n",
    "print(weatherData.head())\n",
    "\n",
    "#pd.set_option('display.max_columns', None) # show all the columns\n",
    "\n",
    "#pd.set_option('display.expand_frame_repr', False) \n",
    "\n",
    "# Cleaning the Divvy data. The function that takes the dataframe and returns it cleaned based on H1, H2.\n",
    "def cleanData(my_data):\n",
    "    my_data = my_data.drop(columns=['Unnamed: 13']) # remove the last column\n",
    "\n",
    "    print(len(my_data))\n",
    "\n",
    "    my_data = my_data.dropna() # remove rows with any null value\n",
    "\n",
    "    my_data = my_data.drop_duplicates() # remove duplicates\n",
    "\n",
    "    print(my_data.columns)\n",
    "\n",
    "    print(len(my_data.columns))\n",
    "\n",
    "    print(type(my_data))\n",
    "\n",
    "    my_data['started_at'] = pd.to_datetime(my_data['started_at'], errors='coerce') # change to date type\n",
    "\n",
    "    my_data['ended_at'] = pd.to_datetime(my_data['ended_at'], errors='coerce') # change to date type\n",
    "    \n",
    "    my_data['started_at'] = my_data['started_at'].dt.date\n",
    "\n",
    "    my_data['ended_at'] = my_data['ended_at'].dt.date\n",
    "    \n",
    "    my_data['ride_id'] = my_data.index\n",
    "\n",
    "    my_data['member_casual'] = my_data['member_casual'].astype(str) # cast to string\n",
    "\n",
    "    return my_data\n",
    "\n",
    "my_data = cleanData(my_data)\n",
    "\n",
    "print(my_data['started_at'].head())\n",
    "\n",
    "print(my_data['ended_at'].head())\n",
    "\n",
    "print(my_data['ride_id'].head())\n",
    "\n",
    "print(len(my_data)) # it should show datetime type for started_at, ended_at\n",
    "\n",
    "print(len(weatherData))\n",
    "\n",
    "print(weatherData.columns)\n",
    "\n",
    "weatherData['time'] = pd.to_datetime(weatherData['time'], errors='coerce')\n",
    "\n",
    "print(weatherData['time'].dtype)\n",
    "\n",
    "print(weatherData['temperature_2m_mean (°F)'].dtype) # acceptable types for weatherData\n",
    "\n",
    "daily_rides = my_data.groupby('started_at').size().reset_index(name='daily_rides')\n",
    "\n",
    "daily_rides['started_at'] = pd.to_datetime(daily_rides['started_at'], errors='coerce')\n",
    "\n",
    "print(daily_rides)\n",
    "\n",
    "merged_data = pd.merge(weatherData, daily_rides, left_on='time', right_on='started_at', how='inner')"
   ]
  },
  {
   "cell_type": "markdown",
   "id": "20a69881",
   "metadata": {},
   "source": [
    "The linear regression predicts a continuous outcome variable, y, from one or more predictor variables x. It assumes a linear relationship between x and y. In our case, the y shall be the average duration of Divvy rides taken by customers and x shall be the temperature variable. We proceed using several different Python libraries to generate model training, model evaluation, hypothesis testing. First, we get the historal weather data using the Open-Mateo APi to match the days of our Divvy rides dataset. The weather data was somewhat cleaned and put into a list in the temp() function. I may need to use this resource in the future; https://open-meteo.com/en/docs/historical-weather-api"
   ]
  },
  {
   "cell_type": "code",
   "execution_count": 105,
   "id": "ca11ec9e",
   "metadata": {},
   "outputs": [
    {
     "name": "stdout",
     "output_type": "stream",
     "text": [
      "Empty DataFrame\n",
      "Columns: [time, temperature_2m_mean (°F), started_at, daily_rides]\n",
      "Index: []\n"
     ]
    }
   ],
   "source": [
    "import requests\n",
    "from sklearn.model_selection import train_test_split\n",
    "from sklearn.linear_model import LinearRegression\n",
    "\n",
    "print(combined_data)"
   ]
  },
  {
   "cell_type": "code",
   "execution_count": null,
   "id": "b956ff73",
   "metadata": {},
   "outputs": [],
   "source": []
  }
 ],
 "metadata": {
  "kernelspec": {
   "display_name": "Python 3 (ipykernel)",
   "language": "python",
   "name": "python3"
  },
  "language_info": {
   "codemirror_mode": {
    "name": "ipython",
    "version": 3
   },
   "file_extension": ".py",
   "mimetype": "text/x-python",
   "name": "python",
   "nbconvert_exporter": "python",
   "pygments_lexer": "ipython3",
   "version": "3.11.5"
  }
 },
 "nbformat": 4,
 "nbformat_minor": 5
}
