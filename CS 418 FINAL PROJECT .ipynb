{
 "cells": [
  {
   "cell_type": "markdown",
   "id": "0c3a2806",
   "metadata": {},
   "source": [
    "Progress report (5%) – due 11:59pm on November 8\n",
    "\n",
    "The progress report is a chance for you to take stock of how far you have come and to reflect on whether or not you are comfortable with the substance or scope of your final project. The format of the progress report will be a Jupyter notebook that should be uploaded to the private github repository you have set up for your team. It should include:\n",
    "\n",
    "\n",
    "\n",
    "● Project introduction: an introduction that discusses the data you are analyzing, and the question or questions you are investigating.\n",
    "\n",
    "● Any changes: a discussion whether your scope has changed since the check-in proposal slides. What did you aim to do that you will not do and what have you added to the project?\n",
    "\n",
    "● Data cleaning: show clearly how you cleaned your data.\n",
    "\n",
    "● Exploratory data analysis: explain what your data looks like (words are fine, but\n",
    "visualizations are often better). Include any interesting issues or preliminary conclusions\n",
    "you have about your data.\n",
    "\n",
    "● At least one visualization that tests an interesting hypothesis, along with an\n",
    "explanation about why you thought this was an interesting hypothesis to investigate.\n",
    "\n",
    "● At least one ML analysis on your dataset, along with a baseline comparison and an\n",
    "interpretation of the result that you obtain.\n",
    "\n",
    "● Reflection: a discussion of the following:\n",
    "○ What is the hardest part of the project that you’ve encountered so far?\n",
    "○ What are your initial insights?\n",
    "○ Are there any concrete results you can show at this point? If not, why not?\n",
    "○ Going forward, what are the current biggest problems you’re facing?\n",
    "○ Do you think you are on track with your project? If not, what parts do you need to\n",
    "dedicate more time to?\n",
    "○ Given your initial exploration of the data, is it worth proceeding with your project,\n",
    "why? If not, how are you going to change your project and why do you think it’s\n",
    "better than your current results?\n",
    "\n",
    "● Next steps: What you plan to accomplish in the next month and how you plan to\n",
    "evaluate whether your project achieved the goals you set for it.\n",
    "What you need to submit: A PDF of your Jupyter notebook to Gradescope which includes a link to the notebook located in your repository (the two notebooks should look the same).\n",
    "\n",
    "\n",
    "\n",
    "How this part will be graded: the amount of progress that has been made, clarity of exposition. There will be a grade assigned to the whole progress report that everyone receives, and a grade assigned to you individually based on your github code contributions."
   ]
  }
 ],
 "metadata": {
  "kernelspec": {
   "display_name": "Python 3 (ipykernel)",
   "language": "python",
   "name": "python3"
  },
  "language_info": {
   "codemirror_mode": {
    "name": "ipython",
    "version": 3
   },
   "file_extension": ".py",
   "mimetype": "text/x-python",
   "name": "python",
   "nbconvert_exporter": "python",
   "pygments_lexer": "ipython3",
   "version": "3.9.7"
  }
 },
 "nbformat": 4,
 "nbformat_minor": 5
}
